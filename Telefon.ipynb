{
  "nbformat": 4,
  "nbformat_minor": 0,
  "metadata": {
    "colab": {
      "provenance": [],
      "authorship_tag": "ABX9TyMhfjZumXG785B1aQUhPJxu",
      "include_colab_link": true
    },
    "kernelspec": {
      "name": "python3",
      "display_name": "Python 3"
    },
    "language_info": {
      "name": "python"
    }
  },
  "cells": [
    {
      "cell_type": "markdown",
      "metadata": {
        "id": "view-in-github",
        "colab_type": "text"
      },
      "source": [
        "<a href=\"https://colab.research.google.com/github/mugi1905/mugi1905.github.io/blob/main/Telefon.ipynb\" target=\"_parent\"><img src=\"https://colab.research.google.com/assets/colab-badge.svg\" alt=\"Open In Colab\"/></a>"
      ]
    },
    {
      "cell_type": "code",
      "execution_count": null,
      "metadata": {
        "id": "6-2qWof5HtFN"
      },
      "outputs": [],
      "source": []
    },
    {
      "source": [
        "import re\n",
        "\n",
        "def telefon_numaralarini_listele(metin):\n",
        "  \"\"\"Metindeki telefon numaralarını bulur ve listeler.\"\"\"\n",
        "  # Sadece Türkiye telefon numaralarını içeren bir regex deseni\n",
        "  desen = r\"05\\d{2}\\s?\\d{3}\\s?\\d{2}\\s?\\d{2}\"\n",
        "  telefon_numaralari = re.findall(desen, metin)\n",
        "  return telefon_numaralari\n",
        "\n",
        "# Kullanıcıdan mail içeriğini al\n",
        "# Changed: Using the standard input() function to get user input.\n",
        "mail_icerigi = input(\"Mail içeriğini buraya yapıştırın:\")\n",
        "\n",
        "# Telefon numaralarını bul ve listele\n",
        "numaralar = telefon_numaralarini_listele(mail_icerigi)\n",
        "\n",
        "# Sonuçları yazdır\n",
        "if numaralar:\n",
        "  print(\"Bulunan telefon numaraları:\")\n",
        "  for numara in numaralar:\n",
        "    print(numara)\n",
        "else:\n",
        "  print(\"Mail içeriğinde telefon numarası bulunamadı.\")"
      ],
      "cell_type": "code",
      "metadata": {
        "id": "n0MWZ2lZJTle"
      },
      "execution_count": null,
      "outputs": []
    }
  ]
}