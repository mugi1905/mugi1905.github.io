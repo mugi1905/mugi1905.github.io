{
  "nbformat": 4,
  "nbformat_minor": 0,
  "metadata": {
    "colab": {
      "provenance": [],
      "authorship_tag": "ABX9TyMhfjZumXG785B1aQUhPJxu",
      "include_colab_link": true
    },
    "kernelspec": {
      "name": "python3",
      "display_name": "Python 3"
    },
    "language_info": {
      "name": "python"
    }
  },
  "cells": [
    {
      "cell_type": "markdown",
      "metadata": {
        "id": "view-in-github",
        "colab_type": "text"
      },
      "source": [
        "<a href=\"https://colab.research.google.com/github/mugi1905/mugi1905.github.io/blob/main/telefon.ipynb\" target=\"_parent\"><img src=\"https://colab.research.google.com/assets/colab-badge.svg\" alt=\"Open In Colab\"/></a>"
      ]
    },
    {
      "cell_type": "code",
      "execution_count": null,
      "metadata": {
        "id": "6-2qWof5HtFN"
      },
      "outputs": [],
      "source": []
    },
    {
      "source": [
        "import re\n",
        "\n",
        "def telefon_numaralarini_listele(metin):\n",
        "  \"\"\"Metindeki telefon numaralarını bulur ve listeler.\"\"\"\n",
        "  # Sadece Türkiye telefon numaralarını içeren bir regex deseni\n",
        "  desen = r\"05\\d{2}\\s?\\d{3}\\s?\\d{2}\\s?\\d{2}\"\n",
        "  telefon_numaralari = re.findall(desen, metin)\n",
        "  return telefon_numaralari\n",
        "\n",
        "# Kullanıcıdan mail içeriğini al\n",
        "# Changed: Using the standard input() function to get user input.\n",
        "mail_icerigi = input(\"Mail içeriğini buraya yapıştırın:\")\n",
        "\n",
        "# Telefon numaralarını bul ve listele\n",
        "numaralar = telefon_numaralarini_listele(mail_icerigi)\n",
        "\n",
        "# Sonuçları yazdır\n",
        "if numaralar:\n",
        "  print(\"Bulunan telefon numaraları:\")\n",
        "  for numara in numaralar:\n",
        "    print(numara)\n",
        "else:\n",
        "  print(\"Mail içeriğinde telefon numarası bulunamadı.\")"
      ],
      "cell_type": "code",
      "metadata": {
        "colab": {
          "base_uri": "https://localhost:8080/"
        },
        "id": "n0MWZ2lZJTle",
        "outputId": "42613769-b7f2-407b-befd-fdd6f1e1a2ba"
      },
      "execution_count": null,
      "outputs": [
        {
          "output_type": "stream",
          "name": "stdout",
          "text": [
            "Mail içeriğini buraya yapıştırın:ÇAĞAN DOĞAN /  0535 260 42 57 -  0506 972 78 54  DOĞUKAN DURMUŞ /  0536 789 07 29 - dogukan.durmus@hotmail.com  LUSİN HİLKAT / 0541 461 09 11  - 0532 204 56 73  - najdahilkat@gmail.com  -  asistan@mmderpsikiyatri.com  OZAN ÇAVUŞ  /  0530 894 59 34 – 0530 833 26 57 \n",
            "Bulunan telefon numaraları:\n",
            "0535 260 42 57\n",
            "0506 972 78 54\n",
            "0536 789 07 29\n",
            "0541 461 09 11\n",
            "0532 204 56 73\n",
            "0530 894 59 34\n",
            "0530 833 26 57\n"
          ]
        }
      ]
    }
  ]
}